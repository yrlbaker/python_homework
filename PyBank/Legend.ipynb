{
 "cells": [
  {
   "cell_type": "code",
   "execution_count": 1,
   "id": "advised-festival",
   "metadata": {},
   "outputs": [],
   "source": [
    "# total number of months included in dataset = tot_num_mos "
   ]
  },
  {
   "cell_type": "code",
   "execution_count": 2,
   "id": "usual-colon",
   "metadata": {},
   "outputs": [],
   "source": [
    "# Net total amount of P&L  = net_tot_amt"
   ]
  },
  {
   "cell_type": "code",
   "execution_count": 3,
   "id": "international-injection",
   "metadata": {},
   "outputs": [],
   "source": [
    "# Average of the change in P&L = avg_chg"
   ]
  },
  {
   "cell_type": "code",
   "execution_count": 4,
   "id": "charming-spell",
   "metadata": {},
   "outputs": [],
   "source": [
    "# Greatest increase in profits - amount = grt_inc"
   ]
  },
  {
   "cell_type": "code",
   "execution_count": 5,
   "id": "sudden-appendix",
   "metadata": {},
   "outputs": [],
   "source": [
    "# Greatest decrease in profits - amount = grt_decr"
   ]
  },
  {
   "cell_type": "code",
   "execution_count": 6,
   "id": "chemical-suggestion",
   "metadata": {},
   "outputs": [],
   "source": [
    "# Date of the greatest decrease in profit = date_grt_dec_profit"
   ]
  },
  {
   "cell_type": "code",
   "execution_count": 7,
   "id": "cross-hartford",
   "metadata": {},
   "outputs": [],
   "source": [
    "# Date of the greatest increase in profit = date_grt_inc_profit"
   ]
  },
  {
   "cell_type": "code",
   "execution_count": null,
   "id": "abroad-batch",
   "metadata": {},
   "outputs": [],
   "source": []
  }
 ],
 "metadata": {
  "kernelspec": {
   "display_name": "Python 3",
   "language": "python",
   "name": "python3"
  },
  "language_info": {
   "codemirror_mode": {
    "name": "ipython",
    "version": 3
   },
   "file_extension": ".py",
   "mimetype": "text/x-python",
   "name": "python",
   "nbconvert_exporter": "python",
   "pygments_lexer": "ipython3",
   "version": "3.8.5"
  }
 },
 "nbformat": 4,
 "nbformat_minor": 5
}
