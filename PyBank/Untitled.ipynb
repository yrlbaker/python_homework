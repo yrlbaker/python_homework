{
 "cells": [
  {
   "cell_type": "code",
   "execution_count": null,
   "id": "forward-assist",
   "metadata": {},
   "outputs": [],
   "source": []
  },
  {
   "cell_type": "code",
   "execution_count": 4,
   "id": "headed-treasurer",
   "metadata": {},
   "outputs": [
    {
     "name": "stdout",
     "output_type": "stream",
     "text": [
      "Financial Analysis\n",
      "------------------\n",
      "Total Months: (tot_num_mos)\n",
      "tot: (net_tot_amt)\n"
     ]
    }
   ],
   "source": [
    "from pathlib import Path\n",
    "import csv\n",
    "\n",
    "# I created a \"Legend.ipynb\" to describe each calculation.\n",
    "tot_num_mos = 0\n",
    "net_tot_amt = 0\n",
    "avg_chg = 0\n",
    "grt_inc = 0\n",
    "grt_decr = 0\n",
    "\n",
    "# I'm putting the file path here to Path. I originally placed it as Resources/'budget_data', but it didn't accept it,\n",
    "# and so I used the \"direct\" method. I still don't know why it has to be this way.\n",
    "filepath = Path('budget_data.csv')\n",
    "\n",
    "# I had to research csvreader, and if I'm correct, it helps with reading one line of the cvs file data and\n",
    "# repeating that action to the next line from budget_data.csv.\n",
    "with open(filepath, \"r\") as csvfile:\n",
    "    csvreader = csv.reader(csvfile)   \n",
    " \n",
    "# My guess is this is to disregard the top row, which is usually the description of the data, and start the \n",
    "# calculations at the first entry.\n",
    "    next(csvreader)\n",
    "    \n",
    "# I want to add the months in the date fields, but disregard the Profit/Losses field. So, that means row 0 is\n",
    "# the Date field, and row 1 is the Profit/Loss field. I will have to create a loop to add up all the months.\n",
    "# Because they are string variables, I will have to add 1 to every entry.\n",
    "\n",
    "\n",
    "# I'm creating a diff variable because I will be calculating the difference from row 1's profits or loss to \n",
    "# the next profit or loss field. I had help with this because I forgot I needed to change it to an integer.\n",
    "    diff = 2\n",
    "    \n",
    "# The net total amount needs to change each time by the profit and loss difference.\n",
    "net_tot_amt = net_tot_amt + diff\n",
    "\n",
    "tot_num_mos\n",
    "\n",
    "# I did not know how to calculate the greatest increase or decrease.\n",
    "# I could not \n",
    "    \n",
    "# Printing out the financial analysis:\n",
    "print(\"Financial Analysis\")\n",
    "print(\"------------------\")\n",
    "print(\"Total Months: (tot_num_mos)\")\n",
    "print(\"tot: (net_tot_amt)\")\n"
   ]
  },
  {
   "cell_type": "code",
   "execution_count": null,
   "id": "contained-origin",
   "metadata": {},
   "outputs": [],
   "source": []
  }
 ],
 "metadata": {
  "kernelspec": {
   "display_name": "Python 3",
   "language": "python",
   "name": "python3"
  },
  "language_info": {
   "codemirror_mode": {
    "name": "ipython",
    "version": 3
   },
   "file_extension": ".py",
   "mimetype": "text/x-python",
   "name": "python",
   "nbconvert_exporter": "python",
   "pygments_lexer": "ipython3",
   "version": "3.8.5"
  }
 },
 "nbformat": 4,
 "nbformat_minor": 5
}
